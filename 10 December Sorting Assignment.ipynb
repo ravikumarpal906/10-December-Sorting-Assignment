{
 "cells": [
  {
   "cell_type": "markdown",
   "id": "235d480b-722a-41dc-9bbd-21a6668ec504",
   "metadata": {},
   "source": [
    "Problem 1.Given an array of n numbers, give an algorithm which gives the element appearing maximum\n",
    "number of times?"
   ]
  },
  {
   "cell_type": "code",
   "execution_count": 7,
   "id": "d22581b7-64ca-487e-8380-498954b7f1c2",
   "metadata": {},
   "outputs": [
    {
     "name": "stdout",
     "output_type": "stream",
     "text": [
      "6\n"
     ]
    }
   ],
   "source": [
    "# find maximaum number in arr\n",
    "def find_max(arr):\n",
    "    max = arr[0]\n",
    "    for i in arr:\n",
    "        if max<i:\n",
    "            max=i\n",
    "    return max\n",
    "\n",
    "def NoOfTime(arr,n):\n",
    "    max = find_max(arr) # Find maximum in arr\n",
    "    # Declare a new arr with length (max+1) and initialize with zero\n",
    "    new_arr = [0]*(max+1)\n",
    "    \n",
    "    freq=0  #store maximum no of time of any number is repeated in arr\n",
    "    most_freq_no=arr[0]  # store a number which store appear mamimum number of time in arr\n",
    "    \n",
    "    for i in arr:\n",
    "        new_arr[i]+=1\n",
    "        if freq<new_arr[i]:\n",
    "            freq=new_arr[i]\n",
    "            most_freq_no = i\n",
    "    return most_freq_no\n",
    "\n",
    "arr=[1,2,1,5,4,2,1,6,6,6,6,6,5,3]\n",
    "print(NoOfTime(arr,10))"
   ]
  },
  {
   "cell_type": "markdown",
   "id": "195ec27e-0c5c-4aa8-b811-0f8bcece4acf",
   "metadata": {},
   "source": [
    "Problem 2 : We are given a list of n-1 integers and these integers are in the range of 1 to n . There are no\n",
    "duplicates in the list. One of the integers is missing in the list. Give an algorithm to find that element Ex:\n",
    "[1,2,4,6,3,7,8] 5 is the missing num."
   ]
  },
  {
   "cell_type": "code",
   "execution_count": 11,
   "id": "b969436f-82ee-4016-9f65-e8eb75b84186",
   "metadata": {},
   "outputs": [
    {
     "name": "stdout",
     "output_type": "stream",
     "text": [
      "Missing Element is 10\n"
     ]
    }
   ],
   "source": [
    "# Here we find missing element in list by using sorting\n",
    "def missing_element(arr,n):\n",
    "    k=1\n",
    "    for i in range(n):\n",
    "        min = i\n",
    "        for j in range(i+1,n):\n",
    "            if arr[min]>arr[j]:\n",
    "                min=j\n",
    "        arr[i],arr[min]=arr[min],arr[i]\n",
    "        if k!=arr[i]:\n",
    "            return f\"Missing Element is {k}\"\n",
    "        else:\n",
    "            k+=1\n",
    "    return f\"Missing Element is {k}\"\n",
    "\n",
    "# Test the function\n",
    "arr=[1,5,9,2,6,3,4,8,7]\n",
    "print(missing_element(arr,9))"
   ]
  },
  {
   "cell_type": "code",
   "execution_count": 12,
   "id": "9a2db291-4dcb-493f-bb8e-140ed4a37d7e",
   "metadata": {},
   "outputs": [
    {
     "name": "stdout",
     "output_type": "stream",
     "text": [
      "5\n"
     ]
    }
   ],
   "source": [
    "# Here we find the missing element in list by using sum of natural number n*(n+1)//2\n",
    "def find_missing_number(lst):\n",
    "    n = len(lst) + 1\n",
    "    total = n * (n + 1) // 2\n",
    "    return total - sum(lst)\n",
    "\n",
    "# Test the function\n",
    "lst = [1, 2, 4, 6, 3, 7, 8]\n",
    "print(find_missing_number(lst))  # Output: 5"
   ]
  },
  {
   "cell_type": "markdown",
   "id": "f06d9c6c-5b63-49ea-b286-0dfa9cd7c8b5",
   "metadata": {},
   "source": [
    "Problem 3 : Given an array of n positive numbers. All numbers occurs even number of times except 1 which\n",
    "occurs odd number of times. Find that number in O(n) time and O(1) space. Ex: [1,2,3,2,3,1,3]. 3 is repeats odd\n",
    "times."
   ]
  },
  {
   "cell_type": "code",
   "execution_count": 14,
   "id": "91e6365d-693a-41c7-ad4a-0be06847ac52",
   "metadata": {},
   "outputs": [
    {
     "name": "stdout",
     "output_type": "stream",
     "text": [
      "3\n"
     ]
    }
   ],
   "source": [
    "def find_odd_occurring(lst):\n",
    "    res = 0\n",
    "    for num in lst:\n",
    "        res ^= num\n",
    "    return res\n",
    "\n",
    "# Test the function\n",
    "lst = [1, 2, 3, 2, 3, 1, 3]\n",
    "print(find_odd_occurring(lst))  # Output: 3"
   ]
  },
  {
   "cell_type": "markdown",
   "id": "d63a9369-f489-4a3d-8cf2-77ef2ab38045",
   "metadata": {},
   "source": [
    "Problem 4 : Given an array of n elements. Find two elements in the array such that their sum is equal to given\n",
    "element K."
   ]
  },
  {
   "cell_type": "code",
   "execution_count": 15,
   "id": "25a9ecea-c5a7-4daf-a4a2-5e8e7bc022da",
   "metadata": {},
   "outputs": [
    {
     "name": "stdout",
     "output_type": "stream",
     "text": [
      "(4, 3)\n"
     ]
    }
   ],
   "source": [
    "def find_pair_with_sum(lst, K):\n",
    "    seen = set()\n",
    "    for num in lst:\n",
    "        if K - num in seen:\n",
    "            return (num, K - num)\n",
    "        seen.add(num)\n",
    "    return None\n",
    "\n",
    "# Test the function\n",
    "lst = [1, 2, 3, 4, 5]\n",
    "K = 7\n",
    "print(find_pair_with_sum(lst, K))  # Output: (4, 3)\n"
   ]
  },
  {
   "cell_type": "markdown",
   "id": "933bd3a9-29aa-4b9c-a40e-a0c826fbd549",
   "metadata": {},
   "source": [
    "Problem 5 : Given an array of both positive and negative numbers, find two numbers such that their sum is\n",
    "closest to 0. Ex: [ 1 ,60 ,-10, 70, -80,85]. Ans : -80,85."
   ]
  },
  {
   "cell_type": "code",
   "execution_count": 1,
   "id": "f289e4b4-c1f2-4d10-8b1e-28c1499d42a8",
   "metadata": {},
   "outputs": [
    {
     "name": "stdout",
     "output_type": "stream",
     "text": [
      "(-80, 85)\n"
     ]
    }
   ],
   "source": [
    "def find_pair(arr):\n",
    "    arr.sort()  # Sort the array\n",
    "    left = 0\n",
    "    right = len(arr) - 1\n",
    "    min_sum = float('inf')  # Initialize minimum sum as infinity\n",
    "    min_left = left\n",
    "    min_right = right\n",
    "\n",
    "    while left < right:\n",
    "        sum = arr[left] + arr[right]\n",
    "\n",
    "        # If abs(sum) is less then update the result items\n",
    "        if abs(sum) < abs(min_sum):\n",
    "            min_sum = sum\n",
    "            min_left = left\n",
    "            min_right = right\n",
    "\n",
    "        # If sum is less than zero, increment left index\n",
    "        if sum < 0:\n",
    "            left += 1\n",
    "        else:  # Else decrement right index\n",
    "            right -= 1\n",
    "\n",
    "    return arr[min_left], arr[min_right]\n",
    "\n",
    "# Test the function\n",
    "arr = [1, 60, -10, 70, -80, 85]\n",
    "print(find_pair(arr))  # Output: (-80, 85)"
   ]
  },
  {
   "cell_type": "markdown",
   "id": "43d38e88-83e8-40a4-9b38-ac08248b7aa2",
   "metadata": {},
   "source": [
    "Problem 6 : Given an array of n elements . Find three elements such that their sum is equal to the given\n",
    "number."
   ]
  },
  {
   "cell_type": "code",
   "execution_count": 2,
   "id": "e4f8abb0-5dbd-4baa-8c82-6852b8057344",
   "metadata": {},
   "outputs": [
    {
     "name": "stdout",
     "output_type": "stream",
     "text": [
      "(4, 8, 10)\n"
     ]
    }
   ],
   "source": [
    "def find_triplet(arr, target_sum):\n",
    "    arr.sort()  # Sort the array\n",
    "    n = len(arr)\n",
    "\n",
    "    # Iterate over the array\n",
    "    for i in range(n - 2):\n",
    "        # Use two pointers to find a pair with sum equal to target_sum - arr[i]\n",
    "        left = i + 1\n",
    "        right = n - 1\n",
    "        while left < right:\n",
    "            current_sum = arr[i] + arr[left] + arr[right]\n",
    "            if current_sum == target_sum:\n",
    "                return arr[i], arr[left], arr[right]\n",
    "            elif current_sum < target_sum:\n",
    "                left += 1\n",
    "            else:\n",
    "                right -= 1\n",
    "\n",
    "    return None  # Return None if no triplet is found\n",
    "\n",
    "# Test the function\n",
    "arr = [1, 4, 45, 6, 10, 8]\n",
    "target_sum = 22\n",
    "print(find_triplet(arr, target_sum))  # Output: (4, 8, 10)"
   ]
  },
  {
   "cell_type": "markdown",
   "id": "b9b7335f-d87a-435d-aaa2-e6d1ebee8ddb",
   "metadata": {},
   "source": [
    "Problem 7 : Given an array of n elements . Find three elements i, j, k in the array such that\n",
    "i * i + j * j = k*k."
   ]
  },
  {
   "cell_type": "code",
   "execution_count": 1,
   "id": "faf6cedb-3f43-4989-8bdb-52708b5bfb71",
   "metadata": {},
   "outputs": [
    {
     "name": "stdout",
     "output_type": "stream",
     "text": [
      "(3.0, 4.0, 5.0)\n"
     ]
    }
   ],
   "source": [
    "def find_triplet(arr):\n",
    "    n = len(arr)\n",
    "\n",
    "    # First we square the elements and sort the array\n",
    "    arr = [x ** 2 for x in arr]\n",
    "    arr.sort()\n",
    "\n",
    "    # Now fix one element one by one and find the other two elements\n",
    "    for i in range(n - 1, 1, -1):\n",
    "        # To find the other two elements, start two index variables from two corners of the array and move them toward each other\n",
    "        left = 0\n",
    "        right = i - 1\n",
    "        while left < right:\n",
    "            # A triplet found\n",
    "            if arr[left] + arr[right] == arr[i]:\n",
    "                return (arr[left] ** 0.5, arr[right] ** 0.5, arr[i] ** 0.5)\n",
    "            else:\n",
    "                # If sum of array elements at indexes left and right is less than the third element at index i\n",
    "                if arr[left] + arr[right] < arr[i]:\n",
    "                    left += 1\n",
    "                else:  # If sum of array elements at indexes left and right is more than the third element at index i\n",
    "                    right -= 1\n",
    "\n",
    "    return None  # No triplet found\n",
    "\n",
    "# Test the function\n",
    "arr = [3, 1, 4, 6, 5]\n",
    "print(find_triplet(arr))  # Output: (3.0, 4.0, 5.0)"
   ]
  },
  {
   "cell_type": "markdown",
   "id": "12738067-ab49-4b43-80a8-7a900e6cd8ae",
   "metadata": {},
   "source": [
    "Problem 8 : An element is a majority if it appears more than n/2 times. Give an algorithm takes an array of n\n",
    "element as argument and identifies a majority (if it exists)."
   ]
  },
  {
   "cell_type": "code",
   "execution_count": 3,
   "id": "092c670b-e201-465f-9a2e-b7c83d6131df",
   "metadata": {},
   "outputs": [
    {
     "name": "stdout",
     "output_type": "stream",
     "text": [
      "2\n"
     ]
    }
   ],
   "source": [
    "def find_majority(arr):\n",
    "    majority_index = 0\n",
    "    count = 1\n",
    "    for i in range(len(arr)):\n",
    "        if arr[majority_index] == arr[i]:\n",
    "            count += 1\n",
    "        else:\n",
    "            count -= 1\n",
    "        if count == 0:\n",
    "            majority_index = i\n",
    "            count = 1\n",
    "    candidate = arr[majority_index]\n",
    "    if arr.count(candidate) > len(arr) // 2:\n",
    "        return candidate\n",
    "    else:\n",
    "        return None\n",
    "\n",
    "# Test the function\n",
    "arr = [2, 2, 1, 1, 1, 2, 2]\n",
    "print(find_majority(arr))  # Output: 2"
   ]
  },
  {
   "cell_type": "markdown",
   "id": "c6e553b5-c9b2-41bc-9e4f-3973cd38b8e5",
   "metadata": {},
   "source": [
    "Problem 9 : Given n × n matrix, and in each row all 1’s are followed by 0’s. Find the row with the maximum\n",
    "number of 0’s."
   ]
  },
  {
   "cell_type": "code",
   "execution_count": 7,
   "id": "6d2dfd61-a5b4-4f85-b1d7-24f0d3e53cad",
   "metadata": {},
   "outputs": [
    {
     "name": "stdout",
     "output_type": "stream",
     "text": [
      "2\n"
     ]
    }
   ],
   "source": [
    "def find_max_zeros_row(matrix):\n",
    "    max_zeros = -1\n",
    "    max_zeros_row = -1\n",
    "    for i, row in enumerate(matrix):\n",
    "        count_zeros = row.count(0)\n",
    "        if count_zeros > max_zeros:\n",
    "            max_zeros = count_zeros\n",
    "            max_zeros_row = i\n",
    "    return max_zeros_row\n",
    "\n",
    "# Test the function\n",
    "matrix = [\n",
    "    [1, 1, 0, 0, 0],\n",
    "    [1, 1, 1, 0, 0],\n",
    "    [1, 0, 0, 0, 0],\n",
    "    [1, 1, 0, 0, 0],\n",
    "    [1, 1, 1, 1, 0]\n",
    "]\n",
    "print(find_max_zeros_row(matrix))  # Output: 2\n"
   ]
  },
  {
   "cell_type": "markdown",
   "id": "af8f0418-408c-44a1-b603-77870be8df68",
   "metadata": {},
   "source": [
    "Problem 10 : Sort an array of 0’s, 1’s and 2’s [or R’s, G’s and B’s]: Given an array A[] consisting of 0’s, 1’s and\n",
    "2’s, give an algorithm for sorting A[].The algorithm should put all 0’s first, then all 1’s and finally all 2’s at the\n",
    "end. Example Input = {0,1,1,0,1,2,1,2,0,0,0,1}, Output = {0,0,0,0,0,1,1,1,1,1,2,2}"
   ]
  },
  {
   "cell_type": "code",
   "execution_count": 8,
   "id": "db106416-6798-4820-a7b8-f24f1952fe27",
   "metadata": {},
   "outputs": [
    {
     "name": "stdout",
     "output_type": "stream",
     "text": [
      "[0, 0, 0, 0, 0, 1, 1, 1, 1, 1, 2, 2]\n"
     ]
    }
   ],
   "source": [
    "def sort_array(arr):\n",
    "    low = 0\n",
    "    mid = 0\n",
    "    high = len(arr) - 1\n",
    "\n",
    "    while mid <= high:\n",
    "        if arr[mid] == 0:\n",
    "            arr[low], arr[mid] = arr[mid], arr[low]\n",
    "            low += 1\n",
    "            mid += 1\n",
    "        elif arr[mid] == 1:\n",
    "            mid += 1\n",
    "        else:  # arr[mid] == 2\n",
    "            arr[mid], arr[high] = arr[high], arr[mid]\n",
    "            high -= 1\n",
    "    return arr\n",
    "\n",
    "# Test the function\n",
    "arr = [0, 1, 1, 0, 1, 2, 1, 2, 0, 0, 0, 1]\n",
    "print(sort_array(arr))  # Output: [0, 0, 0, 0, 0, 1, 1, 1, 1, 1, 2, 2]\n"
   ]
  },
  {
   "cell_type": "code",
   "execution_count": null,
   "id": "b3e7327a-2b78-4901-85db-a65ecae0740a",
   "metadata": {},
   "outputs": [],
   "source": []
  }
 ],
 "metadata": {
  "kernelspec": {
   "display_name": "Python 3 (ipykernel)",
   "language": "python",
   "name": "python3"
  },
  "language_info": {
   "codemirror_mode": {
    "name": "ipython",
    "version": 3
   },
   "file_extension": ".py",
   "mimetype": "text/x-python",
   "name": "python",
   "nbconvert_exporter": "python",
   "pygments_lexer": "ipython3",
   "version": "3.10.8"
  }
 },
 "nbformat": 4,
 "nbformat_minor": 5
}
